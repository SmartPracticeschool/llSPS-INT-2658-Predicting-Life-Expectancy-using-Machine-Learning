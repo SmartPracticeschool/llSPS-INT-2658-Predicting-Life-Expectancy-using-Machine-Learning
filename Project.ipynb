{
    "cells": [
        {
            "cell_type": "code",
            "execution_count": 1,
            "metadata": {},
            "outputs": [
                {
                    "data": {
                        "text/html": "<div>\n<style scoped>\n    .dataframe tbody tr th:only-of-type {\n        vertical-align: middle;\n    }\n\n    .dataframe tbody tr th {\n        vertical-align: top;\n    }\n\n    .dataframe thead th {\n        text-align: right;\n    }\n</style>\n<table border=\"1\" class=\"dataframe\">\n  <thead>\n    <tr style=\"text-align: right;\">\n      <th></th>\n      <th>Country</th>\n      <th>Year</th>\n      <th>Status</th>\n      <th>Adult Mortality</th>\n      <th>infant deaths</th>\n      <th>Alcohol</th>\n      <th>percentage expenditure</th>\n      <th>Hepatitis B</th>\n      <th>Measles</th>\n      <th>BMI</th>\n      <th>...</th>\n      <th>Total expenditure</th>\n      <th>Diphtheria</th>\n      <th>HIV/AIDS</th>\n      <th>GDP</th>\n      <th>Population</th>\n      <th>thinness  1-19 years</th>\n      <th>thinness 5-9 years</th>\n      <th>Income composition of resources</th>\n      <th>Schooling</th>\n      <th>Life expectancy</th>\n    </tr>\n  </thead>\n  <tbody>\n    <tr>\n      <th>0</th>\n      <td>Afghanistan</td>\n      <td>2015</td>\n      <td>Developing</td>\n      <td>263.0</td>\n      <td>62</td>\n      <td>0.01</td>\n      <td>71.279624</td>\n      <td>65.0</td>\n      <td>1154</td>\n      <td>19.1</td>\n      <td>...</td>\n      <td>8.16</td>\n      <td>65.0</td>\n      <td>0.1</td>\n      <td>584.259210</td>\n      <td>33736494.0</td>\n      <td>17.2</td>\n      <td>17.3</td>\n      <td>0.479</td>\n      <td>10.1</td>\n      <td>65.0</td>\n    </tr>\n    <tr>\n      <th>1</th>\n      <td>Afghanistan</td>\n      <td>2014</td>\n      <td>Developing</td>\n      <td>271.0</td>\n      <td>64</td>\n      <td>0.01</td>\n      <td>73.523582</td>\n      <td>62.0</td>\n      <td>492</td>\n      <td>18.6</td>\n      <td>...</td>\n      <td>8.18</td>\n      <td>62.0</td>\n      <td>0.1</td>\n      <td>612.696514</td>\n      <td>327582.0</td>\n      <td>17.5</td>\n      <td>17.5</td>\n      <td>0.476</td>\n      <td>10.0</td>\n      <td>59.9</td>\n    </tr>\n    <tr>\n      <th>2</th>\n      <td>Afghanistan</td>\n      <td>2013</td>\n      <td>Developing</td>\n      <td>268.0</td>\n      <td>66</td>\n      <td>0.01</td>\n      <td>73.219243</td>\n      <td>64.0</td>\n      <td>430</td>\n      <td>18.1</td>\n      <td>...</td>\n      <td>8.13</td>\n      <td>64.0</td>\n      <td>0.1</td>\n      <td>631.744976</td>\n      <td>31731688.0</td>\n      <td>17.7</td>\n      <td>17.7</td>\n      <td>0.470</td>\n      <td>9.9</td>\n      <td>59.9</td>\n    </tr>\n    <tr>\n      <th>3</th>\n      <td>Afghanistan</td>\n      <td>2012</td>\n      <td>Developing</td>\n      <td>272.0</td>\n      <td>69</td>\n      <td>0.01</td>\n      <td>78.184215</td>\n      <td>67.0</td>\n      <td>2787</td>\n      <td>17.6</td>\n      <td>...</td>\n      <td>8.52</td>\n      <td>67.0</td>\n      <td>0.1</td>\n      <td>669.959000</td>\n      <td>3696958.0</td>\n      <td>17.9</td>\n      <td>18.0</td>\n      <td>0.463</td>\n      <td>9.8</td>\n      <td>59.5</td>\n    </tr>\n    <tr>\n      <th>4</th>\n      <td>Afghanistan</td>\n      <td>2011</td>\n      <td>Developing</td>\n      <td>275.0</td>\n      <td>71</td>\n      <td>0.01</td>\n      <td>7.097109</td>\n      <td>68.0</td>\n      <td>3013</td>\n      <td>17.2</td>\n      <td>...</td>\n      <td>7.87</td>\n      <td>68.0</td>\n      <td>0.1</td>\n      <td>63.537231</td>\n      <td>2978599.0</td>\n      <td>18.2</td>\n      <td>18.2</td>\n      <td>0.454</td>\n      <td>9.5</td>\n      <td>59.2</td>\n    </tr>\n  </tbody>\n</table>\n<p>5 rows \u00d7 22 columns</p>\n</div>",
                        "text/plain": "       Country  Year      Status  Adult Mortality  infant deaths  Alcohol  \\\n0  Afghanistan  2015  Developing            263.0             62     0.01   \n1  Afghanistan  2014  Developing            271.0             64     0.01   \n2  Afghanistan  2013  Developing            268.0             66     0.01   \n3  Afghanistan  2012  Developing            272.0             69     0.01   \n4  Afghanistan  2011  Developing            275.0             71     0.01   \n\n   percentage expenditure  Hepatitis B  Measles    BMI   ...  \\\n0               71.279624         65.0      1154   19.1  ...   \n1               73.523582         62.0       492   18.6  ...   \n2               73.219243         64.0       430   18.1  ...   \n3               78.184215         67.0      2787   17.6  ...   \n4                7.097109         68.0      3013   17.2  ...   \n\n   Total expenditure  Diphtheria    HIV/AIDS         GDP  Population  \\\n0               8.16         65.0        0.1  584.259210  33736494.0   \n1               8.18         62.0        0.1  612.696514    327582.0   \n2               8.13         64.0        0.1  631.744976  31731688.0   \n3               8.52         67.0        0.1  669.959000   3696958.0   \n4               7.87         68.0        0.1   63.537231   2978599.0   \n\n    thinness  1-19 years   thinness 5-9 years  \\\n0                   17.2                 17.3   \n1                   17.5                 17.5   \n2                   17.7                 17.7   \n3                   17.9                 18.0   \n4                   18.2                 18.2   \n\n   Income composition of resources  Schooling  Life expectancy   \n0                            0.479       10.1              65.0  \n1                            0.476       10.0              59.9  \n2                            0.470        9.9              59.9  \n3                            0.463        9.8              59.5  \n4                            0.454        9.5              59.2  \n\n[5 rows x 22 columns]"
                    },
                    "execution_count": 1,
                    "metadata": {},
                    "output_type": "execute_result"
                }
            ],
            "source": "# The code was removed by Watson Studio for sharing."
        },
        {
            "cell_type": "code",
            "execution_count": 2,
            "metadata": {},
            "outputs": [
                {
                    "data": {
                        "text/plain": "array(['Afghanistan', 'Albania', 'Algeria', 'Angola',\n       'Antigua and Barbuda', 'Argentina', 'Armenia', 'Australia',\n       'Austria', 'Azerbaijan', 'Bahamas', 'Bahrain', 'Bangladesh',\n       'Barbados', 'Belarus', 'Belgium', 'Belize', 'Benin', 'Bhutan',\n       'Bolivia (Plurinational State of)', 'Bosnia and Herzegovina',\n       'Botswana', 'Brazil', 'Brunei Darussalam', 'Bulgaria',\n       'Burkina Faso', 'Burundi', \"C\u00f4te d'Ivoire\", 'Cabo Verde',\n       'Cambodia', 'Cameroon', 'Canada', 'Central African Republic',\n       'Chad', 'Chile', 'China', 'Colombia', 'Comoros', 'Congo',\n       'Cook Islands', 'Costa Rica', 'Croatia', 'Cuba', 'Cyprus',\n       'Czechia', \"Democratic People's Republic of Korea\",\n       'Democratic Republic of the Congo', 'Denmark', 'Djibouti',\n       'Dominica', 'Dominican Republic', 'Ecuador', 'Egypt',\n       'El Salvador', 'Equatorial Guinea', 'Eritrea', 'Estonia',\n       'Ethiopia', 'Fiji', 'Finland', 'France', 'Gabon', 'Gambia',\n       'Georgia', 'Germany', 'Ghana', 'Greece', 'Grenada', 'Guatemala',\n       'Guinea', 'Guinea-Bissau', 'Guyana', 'Haiti', 'Honduras',\n       'Hungary', 'Iceland', 'India', 'Indonesia',\n       'Iran (Islamic Republic of)', 'Iraq', 'Ireland', 'Israel', 'Italy',\n       'Jamaica', 'Japan', 'Jordan', 'Kazakhstan', 'Kenya', 'Kiribati',\n       'Kuwait', 'Kyrgyzstan', \"Lao People's Democratic Republic\",\n       'Latvia', 'Lebanon', 'Lesotho', 'Liberia', 'Libya', 'Lithuania',\n       'Luxembourg', 'Madagascar', 'Malawi', 'Malaysia', 'Maldives',\n       'Mali', 'Malta', 'Marshall Islands', 'Mauritania', 'Mauritius',\n       'Mexico', 'Micronesia (Federated States of)', 'Monaco', 'Mongolia',\n       'Montenegro', 'Morocco', 'Mozambique', 'Myanmar', 'Namibia',\n       'Nauru', 'Nepal', 'Netherlands', 'New Zealand', 'Nicaragua',\n       'Niger', 'Nigeria', 'Niue', 'Norway', 'Oman', 'Pakistan', 'Palau',\n       'Panama', 'Papua New Guinea', 'Paraguay', 'Peru', 'Philippines',\n       'Poland', 'Portugal', 'Qatar', 'Republic of Korea',\n       'Republic of Moldova', 'Romania', 'Russian Federation', 'Rwanda',\n       'Saint Kitts and Nevis', 'Saint Lucia',\n       'Saint Vincent and the Grenadines', 'Samoa', 'San Marino',\n       'Sao Tome and Principe', 'Saudi Arabia', 'Senegal', 'Serbia',\n       'Seychelles', 'Sierra Leone', 'Singapore', 'Slovakia', 'Slovenia',\n       'Solomon Islands', 'Somalia', 'South Africa', 'South Sudan',\n       'Spain', 'Sri Lanka', 'Sudan', 'Suriname', 'Swaziland', 'Sweden',\n       'Switzerland', 'Syrian Arab Republic', 'Tajikistan', 'Thailand',\n       'The former Yugoslav republic of Macedonia', 'Timor-Leste', 'Togo',\n       'Tonga', 'Trinidad and Tobago', 'Tunisia', 'Turkey',\n       'Turkmenistan', 'Tuvalu', 'Uganda', 'Ukraine',\n       'United Arab Emirates',\n       'United Kingdom of Great Britain and Northern Ireland',\n       'United Republic of Tanzania', 'United States of America',\n       'Uruguay', 'Uzbekistan', 'Vanuatu',\n       'Venezuela (Bolivarian Republic of)', 'Viet Nam', 'Yemen',\n       'Zambia', 'Zimbabwe'], dtype=object)"
                    },
                    "execution_count": 2,
                    "metadata": {},
                    "output_type": "execute_result"
                }
            ],
            "source": "df_data_1.Country.unique()"
        },
        {
            "cell_type": "code",
            "execution_count": 3,
            "metadata": {},
            "outputs": [
                {
                    "name": "stdout",
                    "output_type": "stream",
                    "text": "Country                            0\nYear                               0\nStatus                             0\nAdult Mortality                    0\ninfant deaths                      0\nAlcohol                            0\npercentage expenditure             0\nHepatitis B                        0\nMeasles                            0\n BMI                               0\nunder-five deaths                  0\nPolio                              0\nTotal expenditure                  0\nDiphtheria                         0\n HIV/AIDS                          0\nGDP                                0\nPopulation                         0\n thinness  1-19 years              0\n thinness 5-9 years                0\nIncome composition of resources    0\nSchooling                          0\nLife expectancy                    0\ndtype: int64\n"
                }
            ],
            "source": "import numpy as np\ndf_data_1.dropna(how='any',inplace=True)\n\nprint(df_data_1.isnull().sum())\n"
        },
        {
            "cell_type": "code",
            "execution_count": 4,
            "metadata": {},
            "outputs": [],
            "source": "#encoding categorial data\nfrom sklearn.preprocessing import LabelEncoder,OneHotEncoder\nlabelencoder = LabelEncoder()\ndf_data_1['Country']=labelencoder.fit_transform(df_data_1['Country'])\n\ndf_data_1['Status']=labelencoder.fit_transform(df_data_1['Status'])"
        },
        {
            "cell_type": "code",
            "execution_count": 5,
            "metadata": {},
            "outputs": [],
            "source": "x=df_data_1.iloc[:,0:-1].values\ny=df_data_1.iloc[:,-1].values\n\n"
        },
        {
            "cell_type": "code",
            "execution_count": 6,
            "metadata": {},
            "outputs": [
                {
                    "data": {
                        "text/plain": "numpy.ndarray"
                    },
                    "execution_count": 6,
                    "metadata": {},
                    "output_type": "execute_result"
                }
            ],
            "source": "type(x)"
        },
        {
            "cell_type": "code",
            "execution_count": 7,
            "metadata": {},
            "outputs": [
                {
                    "name": "stdout",
                    "output_type": "stream",
                    "text": "<class 'pandas.core.frame.DataFrame'>\nInt64Index: 1649 entries, 0 to 2937\nData columns (total 22 columns):\nCountry                            1649 non-null int64\nYear                               1649 non-null int64\nStatus                             1649 non-null int64\nAdult Mortality                    1649 non-null float64\ninfant deaths                      1649 non-null int64\nAlcohol                            1649 non-null float64\npercentage expenditure             1649 non-null float64\nHepatitis B                        1649 non-null float64\nMeasles                            1649 non-null int64\n BMI                               1649 non-null float64\nunder-five deaths                  1649 non-null int64\nPolio                              1649 non-null float64\nTotal expenditure                  1649 non-null float64\nDiphtheria                         1649 non-null float64\n HIV/AIDS                          1649 non-null float64\nGDP                                1649 non-null float64\nPopulation                         1649 non-null float64\n thinness  1-19 years              1649 non-null float64\n thinness 5-9 years                1649 non-null float64\nIncome composition of resources    1649 non-null float64\nSchooling                          1649 non-null float64\nLife expectancy                    1649 non-null float64\ndtypes: float64(16), int64(6)\nmemory usage: 296.3 KB\nNone\n"
                }
            ],
            "source": "print(df_data_1.info())"
        },
        {
            "cell_type": "code",
            "execution_count": 8,
            "metadata": {},
            "outputs": [
                {
                    "data": {
                        "text/plain": "array([[0.000e+00, 2.015e+03, 1.000e+00, ..., 1.730e+01, 4.790e-01,\n        1.010e+01],\n       [0.000e+00, 2.014e+03, 1.000e+00, ..., 1.750e+01, 4.760e-01,\n        1.000e+01],\n       [0.000e+00, 2.013e+03, 1.000e+00, ..., 1.770e+01, 4.700e-01,\n        9.900e+00],\n       ...,\n       [1.320e+02, 2.002e+03, 1.000e+00, ..., 1.300e+00, 4.270e-01,\n        1.000e+01],\n       [1.320e+02, 2.001e+03, 1.000e+00, ..., 1.700e+00, 4.270e-01,\n        9.800e+00],\n       [1.320e+02, 2.000e+03, 1.000e+00, ..., 1.120e+01, 4.340e-01,\n        9.800e+00]], dtype=float32)"
                    },
                    "execution_count": 8,
                    "metadata": {},
                    "output_type": "execute_result"
                }
            ],
            "source": "x = np.nan_to_num(x.astype(np.float32))\nx"
        },
        {
            "cell_type": "code",
            "execution_count": 9,
            "metadata": {},
            "outputs": [
                {
                    "data": {
                        "text/plain": "array([65. , 59.9, 59.9, ..., 44.8, 45.3, 46. ], dtype=float32)"
                    },
                    "execution_count": 9,
                    "metadata": {},
                    "output_type": "execute_result"
                }
            ],
            "source": "y = np.nan_to_num(y.astype(np.float32))\ny"
        },
        {
            "cell_type": "code",
            "execution_count": 10,
            "metadata": {},
            "outputs": [
                {
                    "data": {
                        "text/plain": "False"
                    },
                    "execution_count": 10,
                    "metadata": {},
                    "output_type": "execute_result"
                }
            ],
            "source": "np.isnan(x).any()"
        },
        {
            "cell_type": "code",
            "execution_count": 11,
            "metadata": {},
            "outputs": [
                {
                    "data": {
                        "text/plain": "True"
                    },
                    "execution_count": 11,
                    "metadata": {},
                    "output_type": "execute_result"
                }
            ],
            "source": "np.isfinite(x).any()"
        },
        {
            "cell_type": "code",
            "execution_count": 18,
            "metadata": {},
            "outputs": [
                {
                    "data": {
                        "text/plain": "array([[-1.        , -0.99999689, -1.        , ..., -0.99999997,\n        -1.        , -0.99999998],\n       [-1.        , -0.99999689, -1.        , ..., -0.99999997,\n        -1.        , -0.99999998],\n       [-1.        , -0.99999689, -1.        , ..., -0.99999997,\n        -1.        , -0.99999998],\n       ...,\n       [-0.9999998 , -0.99999691, -1.        , ..., -1.        ,\n        -1.        , -0.99999998],\n       [-0.9999998 , -0.99999691, -1.        , ..., -1.        ,\n        -1.        , -0.99999998],\n       [-0.9999998 , -0.99999691, -1.        , ..., -0.99999998,\n        -1.        , -0.99999998]])"
                    },
                    "execution_count": 18,
                    "metadata": {},
                    "output_type": "execute_result"
                }
            ],
            "source": "np.interp(x, (x.min(), x.max()), (-1, +1))"
        },
        {
            "cell_type": "code",
            "execution_count": 19,
            "metadata": {},
            "outputs": [
                {
                    "data": {
                        "text/plain": "array([-0.06666667, -0.29333327, -0.29333327, ..., -0.96444448,\n       -0.94222226, -0.91111111])"
                    },
                    "execution_count": 19,
                    "metadata": {},
                    "output_type": "execute_result"
                }
            ],
            "source": "np.interp(y, (y.min(), y.max()), (-1, +1))"
        },
        {
            "cell_type": "code",
            "execution_count": 20,
            "metadata": {},
            "outputs": [
                {
                    "name": "stdout",
                    "output_type": "stream",
                    "text": "2.0193645352589855\n       Actual  Predicted\n0   57.500000  57.930001\n1   81.699997  83.090001\n2   75.599998  75.390000\n3   56.599998  56.260001\n4   61.400002  61.019999\n5   79.900002  81.689999\n6   54.000000  51.970000\n7   51.000000  50.390000\n8   45.500000  46.340000\n9   72.900002  72.579999\n10  81.000000  80.990000\n11  74.699997  74.800000\n12  80.000000  80.810000\n13  73.599998  66.250000\n14  78.000000  79.750001\n15  45.599998  49.970000\n16  46.000000  50.550000\n17  71.199997  72.890000\n18  73.900002  73.799999\n19  73.000000  69.610001\n20  75.900002  79.180000\n21  67.599998  67.650000\n22  67.000000  65.859999\n23  74.900002  74.119999\n24  73.699997  73.449999\n"
                }
            ],
            "source": "#splitting the dataset\nfrom sklearn.model_selection import train_test_split\nx_train,x_test,y_train,y_test = train_test_split(x,y,test_size=0.2,random_state=0)\n#fitting random forest to dataset\nfrom sklearn.ensemble import RandomForestRegressor\nDecisionTreeRegressionModel=RandomForestRegressor(n_estimators=10,random_state=0)\nDecisionTreeRegressionModel.fit(x_train,y_train)\n\n#predicting the test results\ny_pred = DecisionTreeRegressionModel.predict(x_test)\n\n\n\nfrom sklearn.metrics import mean_squared_error\nfrom math import sqrt\n\nrms = sqrt(mean_squared_error(y_test, y_pred))\nprint(rms)\n\ndf = pd.DataFrame({'Actual': y_test, 'Predicted': y_pred})\ndf1 = df.head(25)\nprint(df1)\n\naccuracy=DecisionTreeRegressionModel.score(x_test,y_test)"
        },
        {
            "cell_type": "code",
            "execution_count": 21,
            "metadata": {},
            "outputs": [
                {
                    "data": {
                        "text/plain": "0.9528068089645216"
                    },
                    "execution_count": 21,
                    "metadata": {},
                    "output_type": "execute_result"
                }
            ],
            "source": "accuracy"
        },
        {
            "cell_type": "code",
            "execution_count": 22,
            "metadata": {},
            "outputs": [
                {
                    "name": "stdout",
                    "output_type": "stream",
                    "text": "{'metadata': {'guid': '628fb435-f66b-4d19-bbab-65c30421bd29', 'url': 'https://us-south.ml.cloud.ibm.com/v3/wml_instances/c4080d6e-2480-460b-94cb-ec8203bff7e9/published_models/628fb435-f66b-4d19-bbab-65c30421bd29', 'created_at': '2020-07-02T17:19:35.020Z', 'modified_at': '2020-07-02T17:19:35.088Z'}, 'entity': {'runtime_environment': 'python-3.6', 'learning_configuration_url': 'https://us-south.ml.cloud.ibm.com/v3/wml_instances/c4080d6e-2480-460b-94cb-ec8203bff7e9/published_models/628fb435-f66b-4d19-bbab-65c30421bd29/learning_configuration', 'author': {'name': 'Vaishnavi Patil'}, 'name': 'Multilinear', 'description': 'life prediction with python', 'learning_iterations_url': 'https://us-south.ml.cloud.ibm.com/v3/wml_instances/c4080d6e-2480-460b-94cb-ec8203bff7e9/published_models/628fb435-f66b-4d19-bbab-65c30421bd29/learning_iterations', 'feedback_url': 'https://us-south.ml.cloud.ibm.com/v3/wml_instances/c4080d6e-2480-460b-94cb-ec8203bff7e9/published_models/628fb435-f66b-4d19-bbab-65c30421bd29/feedback', 'latest_version': {'url': 'https://us-south.ml.cloud.ibm.com/v3/ml_assets/models/628fb435-f66b-4d19-bbab-65c30421bd29/versions/10364a36-7ad2-469a-bae5-50efbc24bb42', 'guid': '10364a36-7ad2-469a-bae5-50efbc24bb42', 'created_at': '2020-07-02T17:19:35.088Z'}, 'model_type': 'scikit-learn-0.20', 'deployments': {'count': 0, 'url': 'https://us-south.ml.cloud.ibm.com/v3/wml_instances/c4080d6e-2480-460b-94cb-ec8203bff7e9/published_models/628fb435-f66b-4d19-bbab-65c30421bd29/deployments'}, 'evaluation_metrics_url': 'https://us-south.ml.cloud.ibm.com/v3/wml_instances/c4080d6e-2480-460b-94cb-ec8203bff7e9/published_models/628fb435-f66b-4d19-bbab-65c30421bd29/evaluation_metrics'}}\n\n\n#######################################################################################\n\nSynchronous deployment creation for uid: '628fb435-f66b-4d19-bbab-65c30421bd29' started\n\n#######################################################################################\n\n\nINITIALIZING\nDEPLOY_SUCCESS\n\n\n------------------------------------------------------------------------------------------------\nSuccessfully finished deployment creation, deployment_uid='d9258a60-0ac6-4451-a67a-7ef822e16f94'\n------------------------------------------------------------------------------------------------\n\n\n------------------------------------  ----------  ------  --------------  ------------------------  -----------------  -------------\nGUID                                  NAME        TYPE    STATE           CREATED                   FRAMEWORK          ARTIFACT TYPE\nd9258a60-0ac6-4451-a67a-7ef822e16f94  prediction  online  DEPLOY_SUCCESS  2020-07-02T17:19:38.303Z  scikit-learn-0.20  model\n3bc56c08-821e-43ed-9594-b0b3245be8cf  prediction  online  DEPLOY_SUCCESS  2020-07-02T16:27:21.420Z  scikit-learn-0.20  model\n58484db1-9d5b-46d2-aeae-fa04e9a513e2  prediction  online  DEPLOY_SUCCESS  2020-07-02T13:32:05.207Z  scikit-learn-0.20  model\n------------------------------------  ----------  ------  --------------  ------------------------  -----------------  -------------\n"
                }
            ],
            "source": "from watson_machine_learning_client import WatsonMachineLearningAPIClient\nwml_credentials={\n  \"apikey\": \"_9W5ykpMbPnbrNesfzSmcMKxg1etCTmU6laCIdywxT6q\",\n  \"iam_apikey_description\": \"Auto-generated for key 7491ff27-2af0-485d-86e1-ce3487e1389a\",\n  \"iam_apikey_name\": \"wdp-writer\",\n  \"iam_role_crn\": \"crn:v1:bluemix:public:iam::::serviceRole:Writer\",\n  \"iam_serviceid_crn\": \"crn:v1:bluemix:public:iam-identity::a/824cecd3061940bab89679d681931d1d::serviceid:ServiceId-e8985a07-2e35-4185-93da-4592f096145b\",\n  \"instance_id\": \"c4080d6e-2480-460b-94cb-ec8203bff7e9\",\n  \"url\": \"https://us-south.ml.cloud.ibm.com\"\n}\n\nclient = WatsonMachineLearningAPIClient(wml_credentials)\nmetadata={\n    client.repository.ModelMetaNames.DESCRIPTION:'life prediction with python',\n    client.repository.ModelMetaNames.AUTHOR_NAME:'Vaishnavi Patil',\n    client.repository.ModelMetaNames.NAME:\"Multilinear\",\n   # client.repository.ModelMetaNames.FRAMEWORK_NAME:\"scikit-learn\",\n   # client.repository.ModelMetaNames.FRAMEWORK_VERSION:\"0.22\"\n    \n}\nmodel_details=client.repository.store_model(DecisionTreeRegressionModel,meta_props=metadata)\nprint(model_details)\npublished_model_uid=client.repository.get_model_uid(model_details)\npublished_model_uid\ncreated_deployment=client.deployments.create(published_model_uid,name=\"prediction\")\nscoring_endpoint = client.deployments.get_scoring_url(created_deployment)\nclient.deployments.list()"
        },
        {
            "cell_type": "code",
            "execution_count": 23,
            "metadata": {},
            "outputs": [
                {
                    "data": {
                        "text/plain": "'https://us-south.ml.cloud.ibm.com/v3/wml_instances/c4080d6e-2480-460b-94cb-ec8203bff7e9/deployments/d9258a60-0ac6-4451-a67a-7ef822e16f94/online'"
                    },
                    "execution_count": 23,
                    "metadata": {},
                    "output_type": "execute_result"
                }
            ],
            "source": "scoring_endpoint"
        }
    ],
    "metadata": {
        "kernelspec": {
            "display_name": "Python 3.6",
            "language": "python",
            "name": "python3"
        },
        "language_info": {
            "codemirror_mode": {
                "name": "ipython",
                "version": 3
            },
            "file_extension": ".py",
            "mimetype": "text/x-python",
            "name": "python",
            "nbconvert_exporter": "python",
            "pygments_lexer": "ipython3",
            "version": "3.6.9"
        }
    },
    "nbformat": 4,
    "nbformat_minor": 1
}